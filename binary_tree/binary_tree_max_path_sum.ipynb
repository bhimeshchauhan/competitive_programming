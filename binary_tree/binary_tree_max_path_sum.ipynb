{
 "cells": [
  {
   "cell_type": "markdown",
   "metadata": {},
   "source": [
    "A path in a binary tree is a sequence of nodes where each pair of adjacent nodes in the sequence has an edge connecting them. A node can only appear in the sequence at most once. Note that the path does not need to pass through the root.\n",
    "\n",
    "The path sum of a path is the sum of the node's values in the path.\n",
    "\n",
    "Given the root of a binary tree, return the maximum path sum of any non-empty path.\n",
    "\n",
    "Example 1:\n",
    "\n",
    "![first_example](https://assets.leetcode.com/uploads/2020/10/13/exx1.jpg)\n",
    "\n",
    "Input: root = [1,2,3]\n",
    "Output: 6\n",
    "Explanation: The optimal path is 2 -> 1 -> 3 with a path sum of 2 + 1 + 3 = 6.\n",
    "\n",
    "Example 2:\n",
    "\n",
    "![second_example](https://assets.leetcode.com/uploads/2020/10/13/exx2.jpg)\n",
    "\n",
    "Input: root = [-10,9,20,null,null,15,7]\n",
    "Output: 42\n",
    "Explanation: The optimal path is 15 -> 20 -> 7 with a path sum of 15 + 20 + 7 = 42.\n",
    "\n",
    "Constraints:\n",
    "\n",
    "The number of nodes in the tree is in the range [1, 3 * 104].\n",
    "-1000 <= Node.val <= 1000"
   ]
  },
  {
   "cell_type": "code",
   "execution_count": 1,
   "metadata": {},
   "outputs": [],
   "source": [
    "# define tree node\n",
    "\n",
    "class TreeNode:\n",
    "    def __init__(self, val=0, left=None, right=None):\n",
    "        self.val = val\n",
    "        self.left  = left\n",
    "        self.right = right"
   ]
  },
  {
   "cell_type": "code",
   "execution_count": null,
   "metadata": {},
   "outputs": [],
   "source": [
    "from typing import Optional\n",
    "\n",
    "class Solution:\n",
    "    def DFS(self, root: Optional[TreeNode]) -> int:\n",
    "        #  if root is None, return 0\n",
    "        if root is None:\n",
    "            return 0\n",
    "        else:\n",
    "            left = max(0, self.DFS(root.left))\n",
    "            right = max(0, self.DFS(root.right))\n",
    "            self.max_sum = max(self.max_sum, left + right + root.val)\n",
    "            return max(left, right) + root.val\n",
    "\n",
    "    def maxPathSum(self, root: Optional[TreeNode]) -> int:\n",
    "        self.max_sum = root.val\n",
    "        self.DFS(root)\n",
    "        return self.max_sum"
   ]
  },
  {
   "cell_type": "code",
   "execution_count": null,
   "metadata": {},
   "outputs": [],
   "source": [
    "from typing import Optional\n",
    "from collections import defaultdict\n",
    "\n",
    "class Solution:\n",
    "    def maxPathSumBFS(self, root: Optional[TreeNode]) -> int:\n",
    "        res = float('-inf')\n",
    "        stack, last_node, visited = [], None, defaultdict(int)\n",
    "        while root or stack:\n",
    "            while root:\n",
    "                stack.append(root)\n",
    "                root = root.left\n",
    "            node = stack[-1]\n",
    "            if node.right and last_node != node.right:\n",
    "                root = node.right\n",
    "            else:\n",
    "                node = stack.pop()\n",
    "                last_node = node\n",
    "                visited[node] = max(max(visited[node.left], visited[node.right]) + node.val, 0)\n",
    "                res = max(res, visited[node.left] + visited[node.right] + node.val)\n",
    "        return res"
   ]
  }
 ],
 "metadata": {
  "kernelspec": {
   "display_name": ".venv",
   "language": "python",
   "name": "python3"
  },
  "language_info": {
   "codemirror_mode": {
    "name": "ipython",
    "version": 3
   },
   "file_extension": ".py",
   "mimetype": "text/x-python",
   "name": "python",
   "nbconvert_exporter": "python",
   "pygments_lexer": "ipython3",
   "version": "3.9.6"
  },
  "orig_nbformat": 4
 },
 "nbformat": 4,
 "nbformat_minor": 2
}
